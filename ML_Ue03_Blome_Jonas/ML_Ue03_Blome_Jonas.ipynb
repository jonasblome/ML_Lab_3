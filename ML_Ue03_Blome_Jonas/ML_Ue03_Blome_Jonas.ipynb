{
 "cells": [
  {
   "cell_type": "code",
   "execution_count": 34,
   "id": "7cce7c17",
   "metadata": {
    "scrolled": true
   },
   "outputs": [
    {
     "name": "stdout",
     "output_type": "stream",
     "text": [
      "Final RMSE: 6.570408927598848\n"
     ]
    },
    {
     "data": {
      "text/plain": [
       "[<matplotlib.lines.Line2D at 0x2d0f3afb550>]"
      ]
     },
     "execution_count": 34,
     "metadata": {},
     "output_type": "execute_result"
    },
    {
     "data": {
      "image/png": "[encoded data removed]",
      "text/plain": [
       "<Figure size 432x288 with 1 Axes>"
      ]
     },
     "metadata": {
      "needs_background": "light"
     },
     "output_type": "display_data"
    }
   ],
   "source": [
    "# Introduction: \n",
    "\n",
    "# The coefficients generated so far use a very specific range of values that we have defined.\n",
    "# But if the data from the Nations file is normalized,\n",
    "# it is possible to use the same range between -1 and +1 for all coefficients.\n",
    "\n",
    "\n",
    "# Problem definition:\n",
    "\n",
    "# First, normalize the input values of the Nation file.\n",
    "# Then generate random coefficients for the polynomial functions in the value range between -1 and +1.\n",
    "# Remember the polynomial which best approximates the data. Visualize it in a diagram,\n",
    "# together with the gross domestic product per capita and life expectancy.\n",
    "# To do so, it is necessary to denormalize the approximated values of the best polynomial.\n",
    "\n",
    "# Import external libraries\n",
    "import matplotlib.pyplot as plt\n",
    "import math\n",
    "import numpy as np\n",
    "import random\n",
    "\n",
    "# Enable inline plotting\n",
    "%matplotlib inline\n",
    "\n",
    "# Import the CSV file\n",
    "nations = np.genfromtxt(\"nations.csv\", delimiter=\",\", skip_header=True)\n",
    "\n",
    "# Label graph plot\n",
    "plt.xlabel(\"GDP per capita\")\n",
    "plt.ylabel(\"Average life expectancy\")\n",
    "\n",
    "# Calculate GDP per capita for each country\n",
    "gdp = nations[:,3] * 1000000\n",
    "gdppc = gdp\n",
    "\n",
    "for i in range(len(gdp)):\n",
    "    gdppc[i] = gdp[i] / nations[i, 6]\n",
    "\n",
    "# Get life expectancy\n",
    "lifeExpectancy = nations[:,4]\n",
    "\n",
    "# Plot average life expectancy over GPD per capita\n",
    "plt.plot(gdppc, lifeExpectancy, \"ob\")\n",
    "\n",
    "# Store max values of gdppc and life expectancy for denormalization\n",
    "gdppcMax = np.amax(gdppc)\n",
    "lifeExpectancyMax = np.amax(lifeExpectancy)\n",
    "\n",
    "# Normalize data in gdppc and life expectancy\n",
    "gdppc = gdppc / gdppcMax\n",
    "lifeExpectancy = lifeExpectancy / lifeExpectancyMax\n",
    "\n",
    "# Approximate relation with polinomial\n",
    "gdppcVector = np.expand_dims(gdppc, axis=0)\n",
    "exponentsVector = np.expand_dims(np.arange(0,3), axis=1)\n",
    "gdppcToThePowerOfExponentMatrix = np.power(gdppcVector, exponentsVector)\n",
    "\n",
    "# Find polynomial with lowest rmse\n",
    "smallestRMSE = 1000\n",
    "bestCoefficients = []\n",
    "\n",
    "# Try 10000 different random coefficients to find best ones\n",
    "for j in range(10000):\n",
    "    # Generate random coefficients\n",
    "    coefficients = np.expand_dims(np.array([random.uniform(-1.0, 1.0),\n",
    "                                            random.uniform(-1.0, 1.0),\n",
    "                                            random.uniform(-1.0, 1.0)]),\n",
    "                                  axis = 1)\n",
    "    \n",
    "    #Calculate approximated life expectancy values with 2nd order polynomial\n",
    "    lifeExpectancyPolynomialApproximation = np.matmul(gdppcToThePowerOfExponentMatrix.transpose(), coefficients)\n",
    "    lifeExpectancyPolynomialApproximation = np.squeeze(lifeExpectancyPolynomialApproximation)\n",
    "\n",
    "    # Calculate and output RMSE value\n",
    "    squareErrorSum = np.sum(np.power(lifeExpectancyMax * lifeExpectancyPolynomialApproximation - lifeExpectancyMax * lifeExpectancy, 2))\n",
    "\n",
    "    mse = squareErrorSum / len(lifeExpectancy)\n",
    "\n",
    "    rmse = math.sqrt(mse)\n",
    "    \n",
    "    # Check if current RMSE is the smallest\n",
    "    if(rmse < smallestRMSE):\n",
    "        smallestRMSE = rmse\n",
    "        bestCoefficients = coefficients\n",
    "\n",
    "# Print final RMSE value\n",
    "print(\"Final RMSE: {}\".format(smallestRMSE))\n",
    "\n",
    "# Make bestCoefficients an array\n",
    "bestCoefficients = np.squeeze(bestCoefficients)\n",
    "\n",
    "# Return y value for polynomial with provided coefficients\n",
    "def polynomialFunction(x, coefficients):\n",
    "    y = 0\n",
    "    \n",
    "    for e in range(len(coefficients)):\n",
    "        y = y + coefficients[e] * np.power(x, e)\n",
    "    \n",
    "    y = y\n",
    "    return y\n",
    "\n",
    "# Plotting the polynomial approximation\n",
    "xValues = np.arange(0.0, 1.0, 0.01)\n",
    "plt.plot(xValues * gdppcMax, polynomialFunction(xValues, bestCoefficients) * lifeExpectancyMax, color = \"red\")"
   ]
  },
  {
   "cell_type": "code",
   "execution_count": null,
   "id": "c0bf6145",
   "metadata": {},
   "outputs": [],
   "source": []
  },
  {
   "cell_type": "code",
   "execution_count": null,
   "id": "5d710af2",
   "metadata": {},
   "outputs": [],
   "source": []
  }
 ],
 "metadata": {
  "kernelspec": {
   "display_name": "Python 3 (ipykernel)",
   "language": "python",
   "name": "python3"
  },
  "language_info": {
   "codemirror_mode": {
    "name": "ipython",
    "version": 3
   },
   "file_extension": ".py",
   "mimetype": "text/x-python",
   "name": "python",
   "nbconvert_exporter": "python",
   "pygments_lexer": "ipython3",
   "version": "3.9.7"
  }
 },
 "nbformat": 4,
 "nbformat_minor": 5
}
